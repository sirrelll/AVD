{
  "nbformat": 4,
  "nbformat_minor": 0,
  "metadata": {
    "colab": {
      "provenance": [],
      "authorship_tag": "ABX9TyOdsB/HPk6D773O94n/WKN5",
      "include_colab_link": true
    },
    "kernelspec": {
      "name": "python3",
      "display_name": "Python 3"
    },
    "language_info": {
      "name": "python"
    }
  },
  "cells": [
    {
      "cell_type": "markdown",
      "metadata": {
        "id": "view-in-github",
        "colab_type": "text"
      },
      "source": [
        "<a href=\"https://colab.research.google.com/github/sirrelll/AVD/blob/main/Checkpoint_1.ipynb\" target=\"_parent\"><img src=\"https://colab.research.google.com/assets/colab-badge.svg\" alt=\"Open In Colab\"/></a>"
      ]
    },
    {
      "cell_type": "markdown",
      "source": [
        "# **BUSINESS UNDERSTANDING**\n"
      ],
      "metadata": {
        "id": "zs3ktVyZkRbQ"
      }
    },
    {
      "cell_type": "markdown",
      "source": [
        "# **Business Objective**"
      ],
      "metadata": {
        "id": "QO-Jv4rfkZz9"
      }
    },
    {
      "cell_type": "markdown",
      "source": [
        "Tujuan utama dari proyek ini yaitu mengembangkan sistem yang bisa memprediksi harga emas dalam jangka pendek maupun jangka menengah dengan tingkat akurasi yang tinggi. Hal ini tentunya bertujuan untuk membantu investor dan trader dalam mengambil keputusan investasi yang lebih strategis, sehingga mereka dapat memaksimalkan keuntungan dan meminimalkan risiko. Dengan adanya sistem ini, perusahaan juga berharap dapat menarik lebih banyak klien dan mempertahankan loyalitas investor yang telah ada dengan menyediakan berbagai rekomendasi berbasis data yang lebih akurat."
      ],
      "metadata": {
        "id": "qBZMcn02kc0l"
      }
    },
    {
      "cell_type": "markdown",
      "source": [
        "# **Assess Situation**"
      ],
      "metadata": {
        "id": "8pRtBAYRqptU"
      }
    },
    {
      "cell_type": "markdown",
      "source": [
        "Situasi bisnis yang mendasari analisis ini adalah meningkatnya kebutuhan perusahaan investasi untuk memberikan rekomendasi investasi yang lebih akurat dan berbasis data kepada klien di tengah volatilitas harga emas yang dipengaruhi oleh berbagai faktor ekonomi global. Dalam menghadapi persaingan yang ketat, perusahaan harus mampu untuk memprediksi harga emas yang dapat membantu investor dalam menentukan kapan waktu terbaik untuk membeli dan menjual emas. Perusahaan juga dapat meningkatkan profitabilitas portofolio investasi klien dan juga memperkuat kepercayaan pelanggan serta daya saing di pasar."
      ],
      "metadata": {
        "id": "3bzasOQMquKr"
      }
    },
    {
      "cell_type": "markdown",
      "source": [
        "# **Data Mining Goals**\n"
      ],
      "metadata": {
        "id": "0SoXlj4Cn_bE"
      }
    },
    {
      "cell_type": "markdown",
      "source": [
        "Mengidentifikasi pola dan tren yang tersembunyi dalam data historis, sehingga dapat digunakan untuk mengetahui data yang mampu memperkirakan pergerakan harga emas dalam jangka pendek dan menengah. Dan juga mampu memberikan rekomendasi yang akurat mengenai waktu terbaik untuk membeli atau menjual emas, sehingga investor dapat memaksimalkan keuntungan dan meminimalkan risiko."
      ],
      "metadata": {
        "id": "z5jo_kszoBx4"
      }
    },
    {
      "cell_type": "markdown",
      "source": [
        "# **Project Plan**"
      ],
      "metadata": {
        "id": "gZ3Gc0dvrveE"
      }
    },
    {
      "cell_type": "markdown",
      "source": [
        "Menarik orang orang yang berminat menjadi investor, Dan juga analisis data harga emas ini dirancang untuk mengembangkan sistem prediksi yang dapat memberikan rekomendasi investasi yang lebih akurat, sehingga investor dapat mengambil keputusan yang lebih menguntungkan."
      ],
      "metadata": {
        "id": "TQB4J-GHrxuu"
      }
    }
  ]
}